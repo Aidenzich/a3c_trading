{
 "cells": [
  {
   "cell_type": "code",
   "execution_count": 41,
   "metadata": {
    "ExecuteTime": {
     "end_time": "2017-06-06T13:32:22.524241",
     "start_time": "2017-06-06T13:32:22.508249Z"
    },
    "code_folding": [],
    "run_control": {
     "frozen": false,
     "read_only": false
    }
   },
   "outputs": [],
   "source": [
    "# -*- coding: utf-8 -*-\n",
    "CUDA_VISIBLE_DEVICES=-1 \n",
    "import os\n",
    "import pandas as pd\n",
    "from multiprocessing import Pool\n",
    "import warnings\n",
    "warnings.filterwarnings(\"ignore\")\n",
    "import numpy as np\n",
    "import scipy\n",
    "\n",
    "import pybacktest as pb\n",
    "import matplotlib.pyplot as plt\n",
    "\n",
    "import threading\n",
    "import multiprocessing\n",
    "import tensorflow as tf\n",
    "import tensorflow.contrib.slim as slim\n",
    "import scipy.signal\n",
    "%matplotlib inline\n",
    "from random import choice\n",
    "from time import sleep\n",
    "from time import time\n",
    "import sys\n",
    "from trader_gym import environment\n",
    "from A3C_class import *\n",
    "import mpld3\n",
    "mpld3.enable_notebook()\n",
    "# %load_ext ipycache\n",
    "max_episode_length = 300\n"
   ]
  },
  {
   "cell_type": "code",
   "execution_count": 42,
   "metadata": {
    "ExecuteTime": {
     "end_time": "2017-06-06T13:32:23.521341",
     "start_time": "2017-06-06T13:32:23.515468Z"
    },
    "code_folding": [],
    "run_control": {
     "frozen": false,
     "read_only": false
    }
   },
   "outputs": [],
   "source": [
    "# plt.plot([prices[max(0,i-5000):i].mean() for i in range(1,prices.shape[0])])\n",
    "# plt.plot([prices[-50000:].mean()for i in range(1,prices.shape[0])])\n",
    "# plt.legend(['past_mean', 'mean'])\n",
    "# plt.show()\n",
    "# plt.plot([prices[max(0,i-5000):i].min() for i in range(1,prices.shape[0])])\n",
    "# plt.plot([prices[-50000:].min()for i in range(1,prices.shape[0])])\n",
    "# plt.legend(['past_min', 'min'])\n",
    "# plt.show()\n",
    "# plt.plot([prices[max(0,i-5000):i].max() for i in range(1,prices.shape[0])])\n",
    "# plt.plot([prices[-50000:].max()for i in range(1,prices.shape[0])])\n",
    "# plt.legend(['past_max', 'max'])\n",
    "# plt.show()\n",
    "# # plt.savefig(\"means.pdf\")\n",
    "# plt.plot([pd.rolling_min(prices, 1000) for i in range(1,prices.shape[0])])\n",
    "# plt.plot([prices[-5000:].max()for i in range(1,prices.shape[0])])\n",
    "# plt.legend(['past_max', 'max'])\n",
    "# # plt.savefig(\"maxs.pdf\")\n",
    "# plt.show()\n",
    "# plt.plot([pd.rolling_max(prices, 1000) for i in range(1,prices.shape[0])])\n",
    "# plt.plot([prices[-5000:].min()for i in range(1,prices.shape[0])])\n",
    "# plt.legend(['past_min', 'min'])\n",
    "# # plt.savefig(\"mins.pdf\")\n",
    "# plt.show()"
   ]
  },
  {
   "cell_type": "code",
   "execution_count": 45,
   "metadata": {
    "ExecuteTime": {
     "end_time": "2017-06-06T13:37:38.421505",
     "start_time": "2017-06-06T13:37:38.251063Z"
    }
   },
   "outputs": [
    {
     "name": "stdout",
     "output_type": "stream",
     "text": [
      "51565 143805\n"
     ]
    }
   ],
   "source": [
    "postfix = ['RTS-12.15', 'RTS-3.16', 'RTS-6.16']\n",
    "R = pd.read_pickle('data/'+str(postfix))\n",
    "start_pt = R.index.get_loc('2015-12-15 10:00:00')[0]\n",
    "print(start_pt, R.ix[:,:].shape[0])"
   ]
  },
  {
   "cell_type": "code",
   "execution_count": 46,
   "metadata": {
    "ExecuteTime": {
     "end_time": "2017-06-06T13:48:13.633094",
     "start_time": "2017-06-06T13:38:18.740482Z"
    }
   },
   "outputs": [
    {
     "name": "stdout",
     "output_type": "stream",
     "text": [
      "CPU times: user 3min 58s, sys: 124 ms, total: 3min 59s\n",
      "Wall time: 3min 59s\n",
      "CPU times: user 3min 58s, sys: 108 ms, total: 3min 58s\n",
      "Wall time: 3min 58s\n",
      "CPU times: user 1min 56s, sys: 136 ms, total: 1min 56s\n",
      "Wall time: 1min 56s\n"
     ]
    }
   ],
   "source": [
    "postfix_to_save = ['RTS-3.16', 'RTS-6.16']\n",
    "# dd = R.values\n",
    "# Rs = pd.DataFrame(data=dd[start_pt:], index = R.index[start_pt:], columns = R.columns)\n",
    "# print(Rs.head(2))\n",
    "len = R.ix[:,:].shape[0]\n",
    "%time Rmax = np.array([R.ix[max(0,i-5000):max(1,i),:].max() for i in range(len)])\n",
    "%time Rmin = np.array([R.ix[max(0,i-5000):max(1,i),:].min() for i in range(len)])\n",
    "%time Rmean = np.array([R.ix[max(0,i-5000):max(1,i),:].mean() for i in range(len)])\n",
    "\n",
    "dd = (R.values - Rmean)/(Rmax - Rmin)\n",
    "Rs = pd.DataFrame(data=dd[start_pt:], index = R.index[start_pt:], columns = R.columns)\n",
    "\n",
    "Rs.to_pickle(str(postfix_to_save)+'w5k')\n",
    "import pickle\n",
    "def change_pickle_protocol(filepath,protocol=2):\n",
    "    with open(filepath,'rb') as f:\n",
    "        obj = pickle.load(f)\n",
    "    with open(filepath,'wb') as f:\n",
    "        pickle.dump(obj,f,protocol=protocol)\n",
    "change_pickle_protocol(str(postfix_to_save)+'w5k')\n",
    "\n",
    "# for i in range(37):\n",
    "#     plt.plot(Rmax[:,i])\n",
    "#     plt.plot(Rmin[:,i])\n",
    "#     plt.plot(Rmean[:,i])\n",
    "#     plt.legend(['max', 'min', 'mean'])\n",
    "#     plt.title('Max|Min|Mean, window=5000, feature={}'.format(i))\n",
    "#     plt.savefig('MMM_window=5000_feature={}.pdf'.format(i))"
   ]
  },
  {
   "cell_type": "code",
   "execution_count": null,
   "metadata": {
    "collapsed": true
   },
   "outputs": [],
   "source": []
  },
  {
   "cell_type": "code",
   "execution_count": null,
   "metadata": {
    "collapsed": true
   },
   "outputs": [],
   "source": []
  },
  {
   "cell_type": "code",
   "execution_count": null,
   "metadata": {
    "collapsed": true
   },
   "outputs": [],
   "source": []
  },
  {
   "cell_type": "code",
   "execution_count": null,
   "metadata": {
    "ExecuteTime": {
     "end_time": "2017-05-07T16:09:23.421007",
     "start_time": "2017-05-07T16:09:22.277307Z"
    },
    "code_folding": [],
    "collapsed": true,
    "run_control": {
     "frozen": false,
     "read_only": false
    }
   },
   "outputs": [],
   "source": [
    "# data\n",
    "postfix = ['RTS-3.16', 'RTS-6.16']\n",
    "R = pd.read_pickle('data/'+str(postfix))\n",
    "test_R = R.copy()\n",
    "# print (R.mean()[0], R.max()[0], (R.max()[0] - R.min()[0]), (R.max()[0] - R.mean()[0])/(R.max()[0] - R.min()[0]), (R.min()[0] - R.mean()[0])/(R.max()[0] - R.min()[0]))\n",
    "R = (R - R.mean()) / (R.max() - R.min())\n",
    "old_R = R.copy()\n",
    "vals = R.values\n",
    "D = np.hstack([vals[i:-dep+i-1, :] for i in range(dep,0,-1)])\n",
    "R = pd.DataFrame(D, R[dep:-1].index)\n",
    "# R = R[:10000]"
   ]
  },
  {
   "cell_type": "code",
   "execution_count": null,
   "metadata": {
    "ExecuteTime": {
     "end_time": "2017-05-07T16:09:23.465354",
     "start_time": "2017-05-07T16:09:23.424371Z"
    },
    "code_folding": [],
    "collapsed": true,
    "run_control": {
     "frozen": false,
     "read_only": false
    }
   },
   "outputs": [],
   "source": [
    "# Main\n",
    "def run_trades(max_episode_length, gamma, s_size, a_size, load_model, model_path, length, env):\n",
    "    tf.reset_default_graph()\n",
    "    with tf.device('/cpu:0'): \n",
    "        global_episodes = tf.Variable(0,dtype=tf.int32,name='global_episodes',trainable=False)\n",
    "        trainer = tf.train.RMSPropOptimizer(learning_rate = 1e-3, decay = 0.99, epsilon = 1e-6)\n",
    "        master_network = AC_Network(s_size,a_size,'global',None)\n",
    "        num_workers = 1\n",
    "        workers = []\n",
    "        for i in range(num_workers):\n",
    "            workers.append(Test_Worker(env,i,s_size,a_size,trainer,model_path,global_episodes))\n",
    "        saver = tf.train.Saver(max_to_keep=5)\n",
    "\n",
    "    gpu_options = tf.GPUOptions(per_process_gpu_memory_fraction=0)\n",
    "    if not os.path.exists(model_path):\n",
    "        os.makedirs(model_path)\n",
    "    with tf.Session(config=tf.ConfigProto(allow_soft_placement=False, log_device_placement=False, gpu_options=gpu_options)) as sess:   \n",
    "        coord = tf.train.Coordinator()\n",
    "\n",
    "        if load_model == True:\n",
    "            print ('Loading Model...')\n",
    "            ckpt = tf.train.get_checkpoint_state(model_path)\n",
    "            saver.restore(sess,ckpt.model_checkpoint_path)\n",
    "        else:\n",
    "            sess.run(tf.global_variables_initializer())\n",
    "\n",
    "        summary_writer = tf.summary.FileWriter('tb/train', graph=sess.graph)\n",
    "        worker_threads = []\n",
    "        for worker in workers:\n",
    "            worker_work = lambda: worker.work(max_episode_length,gamma,sess,coord,saver,dep, 0.33)\n",
    "            t = threading.Thread(target=(worker_work))\n",
    "            t.start()\n",
    "            worker_threads.append(t)\n",
    "\n",
    "        coord.join(worker_threads)\n",
    "        acts = workers[0].acts\n",
    "        rews = workers[0].rewards\n",
    "    return acts, rews"
   ]
  },
  {
   "cell_type": "code",
   "execution_count": null,
   "metadata": {
    "ExecuteTime": {
     "end_time": "2017-05-07T16:09:23.490997",
     "start_time": "2017-05-07T16:09:23.468403Z"
    },
    "code_folding": [],
    "collapsed": true,
    "run_control": {
     "frozen": false,
     "read_only": false
    }
   },
   "outputs": [],
   "source": [
    "## Торговая система - покупаем/продаем в зависимости от предсказанного класса\n",
    "def backtest(acts, o_R):\n",
    "    pacts = np.asarray(acts).copy()\n",
    "    for i in range(1,pacts.shape[0]):\n",
    "        if pacts[i] == 0:\n",
    "            if pacts[i-1] == -1:\n",
    "                #from short\n",
    "                pacts[i] = 0.5\n",
    "            elif pacts[i-1] == 1:\n",
    "                pacts[i] = -0.5\n",
    "\n",
    "    # plt.plot(pacts, '.')\n",
    "    data = o_R[dep-1:-3]\n",
    "\n",
    "    buy= cover = pd.Series(pacts == 1, index=data.index)\n",
    "    short = sell= pd.Series(pacts == -1, index=data.index)\n",
    "    cover = pd.Series(pacts > 0, index=data.index)\n",
    "    sell = pd.Series(pacts < 0, index=data.index)\n",
    "    # print(np.sum(buy-sell))\n",
    "    OHLC = data[[('DealPrice', 'close'), ('DealPrice', 'close'), ('DealPrice', 'close'), ('DealPrice', 'close')]]\n",
    "    OHLC.columns = ['O', 'H', 'L', 'C']\n",
    "    # Основной график эквити\n",
    "    bt = pb.Backtest(locals())\n",
    "    return bt"
   ]
  },
  {
   "cell_type": "code",
   "execution_count": null,
   "metadata": {
    "ExecuteTime": {
     "end_time": "2017-05-07T16:14:49.241622",
     "start_time": "2017-05-07T16:09:23.493822Z"
    },
    "collapsed": true,
    "run_control": {
     "frozen": false,
     "read_only": false
    }
   },
   "outputs": [],
   "source": [
    "\n",
    "load_model = True\n",
    "model_path = 'model'\n",
    "length = R.shape[0]\n",
    "noise_level = 1e-5\n",
    "price = R.values[:,3]\n",
    "n_noises = 1\n",
    "n_runs = 4\n",
    "\n",
    "test_acts = np.zeros((n_noises, n_runs, length-1))\n",
    "test_rews = np.zeros((n_noises, n_runs, length-1))\n",
    "\n",
    "for j in range(n_noises):\n",
    "    np.random.seed(j)\n",
    "    env = environment(R+(np.random.rand(R.shape[0],R.shape[1])-0.5)*(1e-5*(0**j)), length)\n",
    "    for i in range(n_runs):\n",
    "        np.random.seed(i+1377)\n",
    "        test_acts[j,i,:], test_rews[j,i,:] = run_trades(max_episode_length, gamma, s_size, a_size, load_model, model_path, length, env)\n",
    "        print(j,i)\n",
    "    "
   ]
  },
  {
   "cell_type": "code",
   "execution_count": null,
   "metadata": {
    "ExecuteTime": {
     "end_time": "2017-05-07T16:14:50.618585",
     "start_time": "2017-05-07T16:14:49.245300Z"
    },
    "collapsed": true,
    "run_control": {
     "frozen": false,
     "read_only": false
    }
   },
   "outputs": [],
   "source": [
    "## ПРИ НЕУВЕРЕННОСТИ НУЖНО ДЕЛАТЬ ПРЕДЫДУЩЕЕ ДЕЙСТВИЕ, А НЕ 0\n",
    "\n",
    "test_acts_probs = np.zeros((n_noises, a_size, length-1))\n",
    "tresh = 0.0\n",
    "acts = np.zeros((n_noises, length-1))\n",
    "test_acts = test_acts.astype(int)\n",
    "for k in range(n_noises):\n",
    "    for j in range(n_runs):\n",
    "        for i in range(length-1):\n",
    "            a = test_acts[k,j,i]\n",
    "            test_acts_probs[k,a+1,i] += 1\n",
    "    test_acts_probs[k,:,:] = test_acts_probs[k,:,:]/n_runs\n",
    "    acts[k,:] = [np.argmax(x)-1 if max(x) > tresh else 0 for x in test_acts_probs[k,:,:].T]\n",
    "# print(test_acts_probs)\n",
    "# plt.plot(acts.T)\n",
    "# plt.show()"
   ]
  },
  {
   "cell_type": "code",
   "execution_count": null,
   "metadata": {
    "ExecuteTime": {
     "end_time": "2017-05-07T16:26:58.262996",
     "start_time": "2017-05-07T16:26:56.338703Z"
    },
    "collapsed": true,
    "run_control": {
     "frozen": false,
     "read_only": false
    }
   },
   "outputs": [],
   "source": [
    "def write_report(r, filename):    \n",
    "    with open(filename, \"a\") as input_file:\n",
    "        for k, v in r.items():\n",
    "            line = '{}, {}'.format(k, v) \n",
    "            print(line, file=input_file)\n",
    "            \n",
    "folder = os.path.relpath(\".\",\"..\")\n",
    "for i in range(4):    \n",
    "    lengths = [ R.index.get_loc('2015-12-29 10:06:00')[0], R.index.get_loc('2016-01-15 10:06:00')[0], \\\n",
    "                    R.index.get_loc('2016-03-15 10:06:00')[0], R.index.get_loc('2016-06-15 10:06:00')[0] ]\n",
    "    names = ['2w', '1m', '3m', '6m']\n",
    "    bt = backtest(acts[-1,:lengths[i]], test_R[:lengths[i]+dep+2])\n",
    "    fig = plt.figure(figsize=(12, 10))\n",
    "    bt.plot_trades()\n",
    "    plt.legend(loc='best')\n",
    "    plt.title('Backtesting'+folder+'_'+names[i])\n",
    "    plt.ylabel('Rubles')\n",
    "    plt.xlabel('Time')        \n",
    "    plt.plot()\n",
    "    # plt.show()\n",
    "    plt.savefig('../plots/'+folder+'_'+names[i]+'.png', bbox_inches='tight')\n",
    "\n",
    "    # Отчет по системе\n",
    "    B = bt.report\n",
    "    write_report(B, '../plots/'+folder+'_.txt')"
   ]
  },
  {
   "cell_type": "code",
   "execution_count": null,
   "metadata": {
    "ExecuteTime": {
     "end_time": "2017-05-07T16:14:50.981448",
     "start_time": "2017-05-07T16:08:52.789Z"
    },
    "collapsed": true,
    "run_control": {
     "frozen": false,
     "read_only": false
    }
   },
   "outputs": [],
   "source": [
    "# # Зависимость от доли выборщиков\n",
    "# for tresh in np.arange(0,1,0.1):\n",
    "#     acts[-1,:] = [np.argmax(x)-1 if max(x) > tresh else 0 for x in test_acts_probs[-1,:,:].T]\n",
    "#     bt = backtest(acts[-1,:], old_R)\n",
    "#     B = bt.report\n",
    "#     profit = B['performance']['profit']\n",
    "#     print tresh, profit"
   ]
  },
  {
   "cell_type": "code",
   "execution_count": null,
   "metadata": {
    "ExecuteTime": {
     "end_time": "2017-05-07T16:14:50.983260",
     "start_time": "2017-05-07T16:08:52.789Z"
    },
    "collapsed": true,
    "run_control": {
     "frozen": false,
     "read_only": false
    }
   },
   "outputs": [],
   "source": [
    "tresh = 0.0\n",
    "for k in range(n_noises):\n",
    "    acts[k,:] = [np.argmax(x)-1 if max(x) > tresh else 0 for x in test_acts_probs[k,:,:].T]\n",
    "    bt = backtest(acts[k,:], old_R)\n",
    "    B = bt.report\n",
    "    profit = B['performance']['profit']\n",
    "    print profit"
   ]
  },
  {
   "cell_type": "code",
   "execution_count": null,
   "metadata": {
    "collapsed": true,
    "run_control": {
     "frozen": false,
     "read_only": false
    }
   },
   "outputs": [],
   "source": []
  }
 ],
 "metadata": {
  "kernelspec": {
   "display_name": "Python [conda root]",
   "language": "python",
   "name": "conda-root-py"
  },
  "language_info": {
   "codemirror_mode": {
    "name": "ipython",
    "version": 3
   },
   "file_extension": ".py",
   "mimetype": "text/x-python",
   "name": "python",
   "nbconvert_exporter": "python",
   "pygments_lexer": "ipython3",
   "version": "3.5.3"
  }
 },
 "nbformat": 4,
 "nbformat_minor": 2
}
